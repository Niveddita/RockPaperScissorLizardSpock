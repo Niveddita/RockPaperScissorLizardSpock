{
 "cells": [
  {
   "cell_type": "code",
   "execution_count": 2,
   "id": "1444a200",
   "metadata": {},
   "outputs": [],
   "source": [
    "import random as ran\n",
    "import mysql.connector as sql\n",
    "x=sql.connect(host=\"localhost\",user=\"root\",passwd=\"Nivedita8*\",database=\"project_rpsls\")\n",
    "cur=x.cursor()\n",
    "cur.execute(\"create table points (player_points int(5),computer_points int(5))\")\n",
    "def rpsls(computer,player):\n",
    "    if computer==player:\n",
    "        print(\"It's a tie!\")\n",
    "    if computer!=player:\n",
    "        if player==1:\n",
    "            if computer==2:\n",
    "                print(\"Paper covers Rock!\")\n",
    "                print(\"Computer wins\")\n",
    "            if computer==3:\n",
    "                print(\"Rock crushes Scissor!\")\n",
    "                print(\"Player wins\")\n",
    "            if computer==4:\n",
    "                print(\"Rock crushes Lizard!\")\n",
    "                print(\"Player wins\")\n",
    "            if computer==5:\n",
    "                print(\"Spock vapourizes Rock!\")\n",
    "                print(\"Computer wins\")\n",
    "        if computer==1:\n",
    "            if player==2:\n",
    "                print(\"Paper covers Rock!\")\n",
    "                print(\"Player wins\")\n",
    "            if player==3:\n",
    "                print(\"Rock crushes Scissor!\")\n",
    "                print(\"Computer wins\")\n",
    "            if player==4:\n",
    "                print(\"Rock crushes Lizard!\")\n",
    "                print(\"Computer wins\")\n",
    "            if player==5:\n",
    "                print(\"Spock vapourizes Rock!\")\n",
    "                print(\"Player wins\")\n",
    "        if player==2:\n",
    "            if computer==3:\n",
    "                print(\"Scissor cuts Paper!\")\n",
    "                print(\"Computer wins\")\n",
    "            if computer==4:\n",
    "                print(\"Lizard eats Paper!\")\n",
    "                print(\"Computer wins\")\n",
    "            if computer==5:\n",
    "                print(\"Paper disproves Spock!\")\n",
    "                print(\"Player wins\")\n",
    "        if computer==2:\n",
    "            if player==3:\n",
    "                print(\"Scissor cuts Paper!\")\n",
    "                print(\"Player wins\")\n",
    "            if player==4:\n",
    "                print(\"Lizard eats Paper!\")\n",
    "                print(\"Player wins\")\n",
    "            if player==5:\n",
    "                print(\"Paper disproves Spock!\")\n",
    "                print(\"Computer wins\")\n",
    "        if player==3:\n",
    "            if computer==4:\n",
    "                print(\"Scissor decapitates Lizard!\")\n",
    "                print(\"Player wins\")\n",
    "            if computer==5:\n",
    "                print(\"Spock smashes Scissor!\")\n",
    "                print(\"Computer wins\")\n",
    "        if computer==3:\n",
    "            if player==4:\n",
    "                print(\"Scissor decapitates Lizard!\")\n",
    "                print(\"Computer wins\")\n",
    "            if player==5:\n",
    "                print(\"Spock smashes Scissor!\")\n",
    "                print(\"Player wins\")\n",
    "        if player==4:\n",
    "            if computer==5:\n",
    "                print(\"Lizard poisons Spock!\")\n",
    "                print(\"Player wins\")\n",
    "        if computer==4:\n",
    "            if player==5:\n",
    "                print(\"Lizard poisons Spock!\")\n",
    "                print(\"Computer wins\")    "
   ]
  },
  {
   "cell_type": "code",
   "execution_count": null,
   "id": "efa98f7e",
   "metadata": {},
   "outputs": [],
   "source": [
    "#_main_\n",
    "print(\"Welcome to Rock Paper Scissor Lizard Spock!!!\")\n",
    "print('''\n",
    "1 corresponds to Rock\n",
    "2 corresponds to Paper\n",
    "3 corresponds to Scissor\n",
    "4 corresponds to Lizard\n",
    "5 corresponds to Spock\n",
    "''')"
   ]
  },
  {
   "cell_type": "code",
   "execution_count": 9,
   "id": "06bac6c4",
   "metadata": {},
   "outputs": [],
   "source": [
    "from PIL import Image\n",
    "myImage = Image.open(\"rpsls.png\");\n",
    "myImage.show()"
   ]
  },
  {
   "cell_type": "code",
   "execution_count": null,
   "id": "7267daee",
   "metadata": {},
   "outputs": [
    {
     "name": "stdout",
     "output_type": "stream",
     "text": [
      "Enter 1/2/3/4/51\n",
      "Spock vapourizes Rock!\n",
      "Computer wins\n",
      "Enter 1/2/3/4/55\n",
      "Spock smashes Scissor!\n",
      "Player wins\n",
      "Enter 1/2/3/4/54\n",
      "Rock crushes Lizard!\n",
      "Computer wins\n",
      "Enter 1/2/3/4/53\n",
      "Spock smashes Scissor!\n",
      "Computer wins\n"
     ]
    }
   ],
   "source": [
    "while True:\n",
    "    player_choice=int(input(\"Enter 1/2/3/4/5\"))\n",
    "    computer_choice=ran.randint(1,5)\n",
    "    rpsls(computer_choice,player_choice)"
   ]
  },
  {
   "cell_type": "code",
   "execution_count": 2,
   "id": "6a56344e",
   "metadata": {},
   "outputs": [],
   "source": []
  },
  {
   "cell_type": "code",
   "execution_count": null,
   "id": "2be649ae",
   "metadata": {},
   "outputs": [],
   "source": []
  }
 ],
 "metadata": {
  "kernelspec": {
   "display_name": "Python 3",
   "language": "python",
   "name": "python3"
  },
  "language_info": {
   "codemirror_mode": {
    "name": "ipython",
    "version": 3
   },
   "file_extension": ".py",
   "mimetype": "text/x-python",
   "name": "python",
   "nbconvert_exporter": "python",
   "pygments_lexer": "ipython3",
   "version": "3.8.8"
  }
 },
 "nbformat": 4,
 "nbformat_minor": 5
}
